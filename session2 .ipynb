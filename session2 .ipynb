{
 "cells": [
  {
   "cell_type": "code",
   "execution_count": 2,
   "id": "352cd931",
   "metadata": {},
   "outputs": [
    {
     "data": {
      "text/plain": [
       "int"
      ]
     },
     "execution_count": 2,
     "metadata": {},
     "output_type": "execute_result"
    }
   ],
   "source": [
    "My_data=2\n",
    "type(My_data)"
   ]
  },
  {
   "cell_type": "code",
   "execution_count": 3,
   "id": "946d33ad",
   "metadata": {},
   "outputs": [
    {
     "data": {
      "text/plain": [
       "str"
      ]
     },
     "execution_count": 3,
     "metadata": {},
     "output_type": "execute_result"
    }
   ],
   "source": [
    "my_data='2'\n",
    "type(my_data)"
   ]
  },
  {
   "cell_type": "code",
   "execution_count": 4,
   "id": "d3db8365",
   "metadata": {},
   "outputs": [],
   "source": [
    "new_data=int(my_data)"
   ]
  },
  {
   "cell_type": "code",
   "execution_count": 5,
   "id": "0a255a7e",
   "metadata": {},
   "outputs": [
    {
     "data": {
      "text/plain": [
       "int"
      ]
     },
     "execution_count": 5,
     "metadata": {},
     "output_type": "execute_result"
    }
   ],
   "source": [
    "type(new_data)"
   ]
  },
  {
   "cell_type": "code",
   "execution_count": 6,
   "id": "505e62b5",
   "metadata": {},
   "outputs": [
    {
     "data": {
      "text/plain": [
       "str"
      ]
     },
     "execution_count": 6,
     "metadata": {},
     "output_type": "execute_result"
    }
   ],
   "source": [
    "new_data='b'\n",
    "type(new_data)"
   ]
  },
  {
   "cell_type": "code",
   "execution_count": 7,
   "id": "a13e27b4",
   "metadata": {},
   "outputs": [
    {
     "data": {
      "text/plain": [
       "2"
      ]
     },
     "execution_count": 7,
     "metadata": {},
     "output_type": "execute_result"
    }
   ],
   "source": [
    "int(2.99)"
   ]
  },
  {
   "cell_type": "code",
   "execution_count": 9,
   "id": "f14b3d45",
   "metadata": {},
   "outputs": [
    {
     "data": {
      "text/plain": [
       "5"
      ]
     },
     "execution_count": 9,
     "metadata": {},
     "output_type": "execute_result"
    }
   ],
   "source": [
    "11//2"
   ]
  },
  {
   "cell_type": "code",
   "execution_count": 13,
   "id": "2269ea63",
   "metadata": {},
   "outputs": [
    {
     "data": {
      "text/plain": [
       "int"
      ]
     },
     "execution_count": 13,
     "metadata": {},
     "output_type": "execute_result"
    }
   ],
   "source": [
    "x=4\n",
    "type(x)"
   ]
  },
  {
   "cell_type": "code",
   "execution_count": 14,
   "id": "c81ce319",
   "metadata": {},
   "outputs": [],
   "source": [
    "x=x/2"
   ]
  },
  {
   "cell_type": "code",
   "execution_count": 15,
   "id": "b663315e",
   "metadata": {},
   "outputs": [
    {
     "data": {
      "text/plain": [
       "float"
      ]
     },
     "execution_count": 15,
     "metadata": {},
     "output_type": "execute_result"
    }
   ],
   "source": [
    "type(x)"
   ]
  },
  {
   "cell_type": "code",
   "execution_count": 16,
   "id": "0f783a97",
   "metadata": {},
   "outputs": [
    {
     "data": {
      "text/plain": [
       "2.5"
      ]
     },
     "execution_count": 16,
     "metadata": {},
     "output_type": "execute_result"
    }
   ],
   "source": [
    "5/2\n"
   ]
  },
  {
   "cell_type": "code",
   "execution_count": 17,
   "id": "f3e04839",
   "metadata": {},
   "outputs": [
    {
     "data": {
      "text/plain": [
       "1"
      ]
     },
     "execution_count": 17,
     "metadata": {},
     "output_type": "execute_result"
    }
   ],
   "source": [
    "5%2"
   ]
  },
  {
   "cell_type": "code",
   "execution_count": 18,
   "id": "c43b034c",
   "metadata": {},
   "outputs": [
    {
     "data": {
      "text/plain": [
       "2"
      ]
     },
     "execution_count": 18,
     "metadata": {},
     "output_type": "execute_result"
    }
   ],
   "source": [
    "5//2"
   ]
  },
  {
   "cell_type": "code",
   "execution_count": 23,
   "id": "5bda66cd",
   "metadata": {},
   "outputs": [
    {
     "data": {
      "text/plain": [
       "'michel jakson was a singer'"
      ]
     },
     "execution_count": 23,
     "metadata": {},
     "output_type": "execute_result"
    }
   ],
   "source": [
    "name='michel jakson'\n",
    "fullname=name+' '+'was a singer'f\n",
    "fullname"
   ]
  },
  {
   "cell_type": "code",
   "execution_count": null,
   "id": "e305d6b2",
   "metadata": {},
   "outputs": [],
   "source": []
  },
  {
   "cell_type": "code",
   "execution_count": 24,
   "id": "b5a4f58f",
   "metadata": {},
   "outputs": [
    {
     "data": {
      "text/plain": [
       "'l'"
      ]
     },
     "execution_count": 24,
     "metadata": {},
     "output_type": "execute_result"
    }
   ],
   "source": [
    "fullname[5]"
   ]
  },
  {
   "cell_type": "code",
   "execution_count": 25,
   "id": "bcc2ebf1",
   "metadata": {},
   "outputs": [
    {
     "data": {
      "text/plain": [
       "' '"
      ]
     },
     "execution_count": 25,
     "metadata": {},
     "output_type": "execute_result"
    }
   ],
   "source": [
    "fullname[6]"
   ]
  },
  {
   "cell_type": "code",
   "execution_count": 26,
   "id": "4a66fc01",
   "metadata": {},
   "outputs": [
    {
     "data": {
      "text/plain": [
       "'r'"
      ]
     },
     "execution_count": 26,
     "metadata": {},
     "output_type": "execute_result"
    }
   ],
   "source": [
    "fullname[-1]"
   ]
  },
  {
   "cell_type": "code",
   "execution_count": 27,
   "id": "0a073994",
   "metadata": {},
   "outputs": [
    {
     "data": {
      "text/plain": [
       "'hello'"
      ]
     },
     "execution_count": 27,
     "metadata": {},
     "output_type": "execute_result"
    }
   ],
   "source": [
    "x='hello'\n",
    "x"
   ]
  },
  {
   "cell_type": "code",
   "execution_count": 28,
   "id": "ffbf1569",
   "metadata": {},
   "outputs": [
    {
     "name": "stdout",
     "output_type": "stream",
     "text": [
      "hello\n"
     ]
    }
   ],
   "source": [
    "print(x)"
   ]
  },
  {
   "cell_type": "code",
   "execution_count": 31,
   "id": "f4862d4b",
   "metadata": {},
   "outputs": [
    {
     "name": "stdout",
     "output_type": "stream",
     "text": [
      "hello sara,this email is from dataroadmap and your class_no is 2\n"
     ]
    }
   ],
   "source": [
    "name='sara'\n",
    "sender='dataroadmap'\n",
    "class_no='2'\n",
    "print('hello {},this email is from {} and your class_no is {}'.format(name,sender,class_no))\n"
   ]
  },
  {
   "cell_type": "code",
   "execution_count": 32,
   "id": "11de0ac4",
   "metadata": {},
   "outputs": [
    {
     "data": {
      "text/plain": [
       "1"
      ]
     },
     "execution_count": 32,
     "metadata": {},
     "output_type": "execute_result"
    }
   ],
   "source": [
    "lst_1=[1,2,3]\n",
    "lst_1[0]"
   ]
  },
  {
   "cell_type": "code",
   "execution_count": 33,
   "id": "d7227d85",
   "metadata": {},
   "outputs": [
    {
     "data": {
      "text/plain": [
       "3"
      ]
     },
     "execution_count": 33,
     "metadata": {},
     "output_type": "execute_result"
    }
   ],
   "source": [
    "len(lst_1)"
   ]
  },
  {
   "cell_type": "code",
   "execution_count": 34,
   "id": "7715a1a4",
   "metadata": {},
   "outputs": [
    {
     "data": {
      "text/plain": [
       "[1, 2, 3, 20]"
      ]
     },
     "execution_count": 34,
     "metadata": {},
     "output_type": "execute_result"
    }
   ],
   "source": [
    "lst_1.append(20)\n",
    "lst_1"
   ]
  },
  {
   "cell_type": "code",
   "execution_count": 35,
   "id": "377d2862",
   "metadata": {},
   "outputs": [
    {
     "data": {
      "text/plain": [
       "4"
      ]
     },
     "execution_count": 35,
     "metadata": {},
     "output_type": "execute_result"
    }
   ],
   "source": [
    "len(lst_1)"
   ]
  },
  {
   "cell_type": "code",
   "execution_count": 40,
   "id": "ae242b4e",
   "metadata": {},
   "outputs": [
    {
     "data": {
      "text/plain": [
       "[1, 'ali', [1, 2, 3], ['ali']]"
      ]
     },
     "execution_count": 40,
     "metadata": {},
     "output_type": "execute_result"
    }
   ],
   "source": [
    "lst2=[1,'ali',[1,2,3],['ali']]\n",
    "lst2"
   ]
  },
  {
   "cell_type": "code",
   "execution_count": 41,
   "id": "9564db4c",
   "metadata": {},
   "outputs": [
    {
     "data": {
      "text/plain": [
       "[1, 2, 3]"
      ]
     },
     "execution_count": 41,
     "metadata": {},
     "output_type": "execute_result"
    }
   ],
   "source": [
    "lst3=lst2[2]\n",
    "lst3"
   ]
  },
  {
   "cell_type": "code",
   "execution_count": 42,
   "id": "40cf4a96",
   "metadata": {},
   "outputs": [
    {
     "data": {
      "text/plain": [
       "3"
      ]
     },
     "execution_count": 42,
     "metadata": {},
     "output_type": "execute_result"
    }
   ],
   "source": [
    "lst2[2][2]"
   ]
  },
  {
   "cell_type": "code",
   "execution_count": 43,
   "id": "4f9ff0d1",
   "metadata": {},
   "outputs": [
    {
     "data": {
      "text/plain": [
       "'ali'"
      ]
     },
     "execution_count": 43,
     "metadata": {},
     "output_type": "execute_result"
    }
   ],
   "source": [
    "lst2[1]"
   ]
  },
  {
   "cell_type": "code",
   "execution_count": 44,
   "id": "b141d552",
   "metadata": {},
   "outputs": [
    {
     "data": {
      "text/plain": [
       "'l'"
      ]
     },
     "execution_count": 44,
     "metadata": {},
     "output_type": "execute_result"
    }
   ],
   "source": [
    "lst2[1][1]"
   ]
  },
  {
   "cell_type": "code",
   "execution_count": 45,
   "id": "2f4ae2e6",
   "metadata": {},
   "outputs": [],
   "source": [
    "del lst2[1]"
   ]
  },
  {
   "cell_type": "code",
   "execution_count": 46,
   "id": "661b2dc3",
   "metadata": {},
   "outputs": [
    {
     "data": {
      "text/plain": [
       "[1, [1, 2, 3], ['ali']]"
      ]
     },
     "execution_count": 46,
     "metadata": {},
     "output_type": "execute_result"
    }
   ],
   "source": [
    "lst2"
   ]
  },
  {
   "cell_type": "code",
   "execution_count": 49,
   "id": "49083192",
   "metadata": {},
   "outputs": [],
   "source": [
    "lst2.remove(lst2[0])"
   ]
  },
  {
   "cell_type": "code",
   "execution_count": 50,
   "id": "ddd411ad",
   "metadata": {},
   "outputs": [
    {
     "data": {
      "text/plain": [
       "[['ali']]"
      ]
     },
     "execution_count": 50,
     "metadata": {},
     "output_type": "execute_result"
    }
   ],
   "source": [
    "lst2"
   ]
  },
  {
   "cell_type": "code",
   "execution_count": 52,
   "id": "d9c77546",
   "metadata": {},
   "outputs": [],
   "source": [
    "lst2.remove(lst2[0])"
   ]
  },
  {
   "cell_type": "code",
   "execution_count": 53,
   "id": "42397a8f",
   "metadata": {},
   "outputs": [
    {
     "data": {
      "text/plain": [
       "[]"
      ]
     },
     "execution_count": 53,
     "metadata": {},
     "output_type": "execute_result"
    }
   ],
   "source": [
    "lst2"
   ]
  },
  {
   "cell_type": "code",
   "execution_count": 56,
   "id": "1953b9e7",
   "metadata": {},
   "outputs": [],
   "source": [
    "lst4=[1,2,3,4]\n",
    "lst4.insert(3,'orange')"
   ]
  },
  {
   "cell_type": "code",
   "execution_count": 57,
   "id": "5aede646",
   "metadata": {},
   "outputs": [
    {
     "data": {
      "text/plain": [
       "[1, 2, 3, 'orange', 4]"
      ]
     },
     "execution_count": 57,
     "metadata": {},
     "output_type": "execute_result"
    }
   ],
   "source": [
    "lst4"
   ]
  },
  {
   "cell_type": "markdown",
   "id": "d1e5efb4",
   "metadata": {},
   "source": [
    "lst4"
   ]
  },
  {
   "cell_type": "code",
   "execution_count": 58,
   "id": "46e55c1d",
   "metadata": {},
   "outputs": [
    {
     "data": {
      "text/plain": [
       "[1, 2, 3, 'orange', 4]"
      ]
     },
     "execution_count": 58,
     "metadata": {},
     "output_type": "execute_result"
    }
   ],
   "source": [
    "lst4"
   ]
  },
  {
   "cell_type": "code",
   "execution_count": 59,
   "id": "9a1210c7",
   "metadata": {},
   "outputs": [],
   "source": [
    "lst4.remove(2)"
   ]
  },
  {
   "cell_type": "code",
   "execution_count": 60,
   "id": "e3278e80",
   "metadata": {},
   "outputs": [
    {
     "data": {
      "text/plain": [
       "[1, 3, 'orange', 4]"
      ]
     },
     "execution_count": 60,
     "metadata": {},
     "output_type": "execute_result"
    }
   ],
   "source": [
    "lst4"
   ]
  },
  {
   "cell_type": "code",
   "execution_count": 61,
   "id": "cc604aa3",
   "metadata": {},
   "outputs": [],
   "source": [
    "lst4.reverse()"
   ]
  },
  {
   "cell_type": "code",
   "execution_count": 62,
   "id": "bc61dc4f",
   "metadata": {},
   "outputs": [
    {
     "data": {
      "text/plain": [
       "[4, 'orange', 3, 1]"
      ]
     },
     "execution_count": 62,
     "metadata": {},
     "output_type": "execute_result"
    }
   ],
   "source": [
    "lst4"
   ]
  },
  {
   "cell_type": "code",
   "execution_count": 67,
   "id": "d50abb55",
   "metadata": {},
   "outputs": [],
   "source": [
    "lst5=lst4.copy()"
   ]
  },
  {
   "cell_type": "code",
   "execution_count": 68,
   "id": "eded975b",
   "metadata": {},
   "outputs": [
    {
     "data": {
      "text/plain": [
       "[4, 'orange', 3, 1]"
      ]
     },
     "execution_count": 68,
     "metadata": {},
     "output_type": "execute_result"
    }
   ],
   "source": [
    "lst5"
   ]
  },
  {
   "cell_type": "code",
   "execution_count": 69,
   "id": "77f62609",
   "metadata": {},
   "outputs": [],
   "source": [
    "lst4.clear()"
   ]
  },
  {
   "cell_type": "code",
   "execution_count": 70,
   "id": "68dcf6cd",
   "metadata": {},
   "outputs": [
    {
     "data": {
      "text/plain": [
       "[]"
      ]
     },
     "execution_count": 70,
     "metadata": {},
     "output_type": "execute_result"
    }
   ],
   "source": [
    "lst4"
   ]
  },
  {
   "cell_type": "code",
   "execution_count": 72,
   "id": "9e53f74d",
   "metadata": {},
   "outputs": [
    {
     "ename": "ValueError",
     "evalue": "6 is not in list",
     "output_type": "error",
     "traceback": [
      "\u001b[1;31m---------------------------------------------------------------------------\u001b[0m",
      "\u001b[1;31mValueError\u001b[0m                                Traceback (most recent call last)",
      "Cell \u001b[1;32mIn[72], line 1\u001b[0m\n\u001b[1;32m----> 1\u001b[0m \u001b[43mlst5\u001b[49m\u001b[38;5;241;43m.\u001b[39;49m\u001b[43mindex\u001b[49m\u001b[43m(\u001b[49m\u001b[38;5;241;43m6\u001b[39;49m\u001b[43m)\u001b[49m\n",
      "\u001b[1;31mValueError\u001b[0m: 6 is not in list"
     ]
    }
   ],
   "source": [
    "lst5.index(6)"
   ]
  },
  {
   "cell_type": "code",
   "execution_count": 73,
   "id": "de2b0f24",
   "metadata": {},
   "outputs": [
    {
     "ename": "TypeError",
     "evalue": "'<' not supported between instances of 'str' and 'int'",
     "output_type": "error",
     "traceback": [
      "\u001b[1;31m---------------------------------------------------------------------------\u001b[0m",
      "\u001b[1;31mTypeError\u001b[0m                                 Traceback (most recent call last)",
      "Cell \u001b[1;32mIn[73], line 1\u001b[0m\n\u001b[1;32m----> 1\u001b[0m \u001b[43mlst5\u001b[49m\u001b[38;5;241;43m.\u001b[39;49m\u001b[43msort\u001b[49m\u001b[43m(\u001b[49m\u001b[43m)\u001b[49m\n",
      "\u001b[1;31mTypeError\u001b[0m: '<' not supported between instances of 'str' and 'int'"
     ]
    }
   ],
   "source": [
    "lst5.sort()"
   ]
  },
  {
   "cell_type": "code",
   "execution_count": 74,
   "id": "9d772084",
   "metadata": {},
   "outputs": [
    {
     "data": {
      "text/plain": [
       "[3, 5, 8, 11, 33]"
      ]
     },
     "execution_count": 74,
     "metadata": {},
     "output_type": "execute_result"
    }
   ],
   "source": [
    "lst6=[3,5,8,33,11]\n",
    "lst6.sort()\n",
    "lst6"
   ]
  },
  {
   "cell_type": "code",
   "execution_count": 75,
   "id": "c73f76b8",
   "metadata": {},
   "outputs": [
    {
     "data": {
      "text/plain": [
       "[3, 5, 8, 11]"
      ]
     },
     "execution_count": 75,
     "metadata": {},
     "output_type": "execute_result"
    }
   ],
   "source": [
    "lst6.pop()\n",
    "lst6"
   ]
  },
  {
   "cell_type": "code",
   "execution_count": 79,
   "id": "d43b7db7",
   "metadata": {},
   "outputs": [
    {
     "ename": "IndexError",
     "evalue": "pop index out of range",
     "output_type": "error",
     "traceback": [
      "\u001b[1;31m---------------------------------------------------------------------------\u001b[0m",
      "\u001b[1;31mIndexError\u001b[0m                                Traceback (most recent call last)",
      "Cell \u001b[1;32mIn[79], line 1\u001b[0m\n\u001b[1;32m----> 1\u001b[0m \u001b[43mlst6\u001b[49m\u001b[38;5;241;43m.\u001b[39;49m\u001b[43mpop\u001b[49m\u001b[43m(\u001b[49m\u001b[38;5;241;43m5\u001b[39;49m\u001b[43m)\u001b[49m\n\u001b[0;32m      2\u001b[0m lst6\n",
      "\u001b[1;31mIndexError\u001b[0m: pop index out of range"
     ]
    }
   ],
   "source": [
    "lst6.pop(5)\n",
    "lst6"
   ]
  },
  {
   "cell_type": "code",
   "execution_count": 80,
   "id": "dc61cb2f",
   "metadata": {},
   "outputs": [
    {
     "data": {
      "text/plain": [
       "[3, 5, 8]"
      ]
     },
     "execution_count": 80,
     "metadata": {},
     "output_type": "execute_result"
    }
   ],
   "source": [
    "lst6"
   ]
  },
  {
   "cell_type": "code",
   "execution_count": 81,
   "id": "627f3311",
   "metadata": {},
   "outputs": [
    {
     "data": {
      "text/plain": [
       "2"
      ]
     },
     "execution_count": 81,
     "metadata": {},
     "output_type": "execute_result"
    }
   ],
   "source": [
    "lst6.index(8)"
   ]
  },
  {
   "cell_type": "code",
   "execution_count": 82,
   "id": "6f02caac",
   "metadata": {},
   "outputs": [
    {
     "data": {
      "text/plain": [
       "[78, 3, 5, 8]"
      ]
     },
     "execution_count": 82,
     "metadata": {},
     "output_type": "execute_result"
    }
   ],
   "source": [
    "lst6.insert(0,78)\n",
    "lst6"
   ]
  },
  {
   "cell_type": "code",
   "execution_count": null,
   "id": "b04e0695",
   "metadata": {},
   "outputs": [],
   "source": []
  }
 ],
 "metadata": {
  "kernelspec": {
   "display_name": "Python 3 (ipykernel)",
   "language": "python",
   "name": "python3"
  },
  "language_info": {
   "codemirror_mode": {
    "name": "ipython",
    "version": 3
   },
   "file_extension": ".py",
   "mimetype": "text/x-python",
   "name": "python",
   "nbconvert_exporter": "python",
   "pygments_lexer": "ipython3",
   "version": "3.10.9"
  }
 },
 "nbformat": 4,
 "nbformat_minor": 5
}
